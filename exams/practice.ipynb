{
 "cells": [
  {
   "cell_type": "markdown",
   "metadata": {},
   "source": [
    "# MATH50003 Numerical Analysis (2021–2022) Practice Computer-based Exam\n",
    "\n",
    "\n",
    "For each problem, replace the `# TODO` to complete the question.\n",
    "The unit tests are provided to help you test your answers.\n",
    "You have 1 hour to complete the exam, as well as 1 hour for downloading/uploading.\n",
    "\n",
    "Problems are marked A/B/C to indicate difficulty (\"A\" being most difficult).\n",
    "Partial credit will be awarded for reasonable attempts even if the tests\n",
    "are not passed.\n",
    "\n",
    "You may use existing code from anywhere\n",
    "but you are **REQUIRED** to cite the source if it is not part of the module material,\n",
    "ideally by including a weblink in a comment. You **MUST NOT** ask for help online or\n",
    "communicate with others within or outside the module.\n",
    "Failure to follow these rules will be considered misconduct.\n",
    "\n",
    "\n",
    "\n",
    "You should use the following packages:"
   ]
  },
  {
   "cell_type": "code",
   "execution_count": 1,
   "metadata": {
    "execution": {
     "iopub.execute_input": "2022-03-08T16:32:15.869221Z",
     "iopub.status.busy": "2022-03-08T16:32:15.456562Z",
     "iopub.status.idle": "2022-03-08T16:32:16.077344Z",
     "shell.execute_reply": "2022-03-08T16:32:16.076814Z"
    }
   },
   "outputs": [],
   "source": [
    "using LinearAlgebra, SetRounding, Test"
   ]
  },
  {
   "cell_type": "markdown",
   "metadata": {},
   "source": [
    "**WARNING** It may be necessary to restart the kernel if issues arise. Remember to reload the packages\n",
    "when you do so.\n",
    "\n",
    "## 1. Numbers\n",
    "\n",
    "**Problem 1.1 (C)** Complete the following function `divideby3(x)` that\n",
    "returns a tuple `a,b` such that `a` is the largest `Float64` less \n",
    "than or equal to `x/3` and `b` is the smallest `Float64` greater than or equal to `x/3`."
   ]
  },
  {
   "cell_type": "code",
   "execution_count": 14,
   "metadata": {
    "execution": {
     "iopub.execute_input": "2022-03-08T16:32:16.098298Z",
     "iopub.status.busy": "2022-03-08T16:32:16.097611Z",
     "iopub.status.idle": "2022-03-08T16:32:16.541561Z",
     "shell.execute_reply": "2022-03-08T16:32:16.541022Z"
    }
   },
   "outputs": [
    {
     "data": {
      "text/plain": [
       "divideby3 (generic function with 1 method)"
      ]
     },
     "metadata": {},
     "output_type": "display_data"
    }
   ],
   "source": [
    "function divideby3(x)\n",
    "    # TODO: assign a,b so that a ≤ x ≤ b where b is either equal to a or the next float\n",
    "    x = Float64(x)\n",
    "    a = setrounding(Float64, RoundDown) do\n",
    "        x/3\n",
    "    end\n",
    "    b = setrounding(Float64, RoundUp) do\n",
    "        b = x/3\n",
    "    end\n",
    "    a,b\n",
    "end"
   ]
  },
  {
   "cell_type": "code",
   "execution_count": 15,
   "metadata": {
    "execution": {
     "iopub.execute_input": "2022-03-08T16:32:16.543588Z",
     "iopub.status.busy": "2022-03-08T16:32:16.543069Z",
     "iopub.status.idle": "2022-03-08T16:32:17.391047Z",
     "shell.execute_reply": "2022-03-08T16:32:17.390663Z"
    }
   },
   "outputs": [
    {
     "data": {
      "text/plain": [
       "\u001b[32m\u001b[1mTest Passed\u001b[22m\u001b[39m"
      ]
     },
     "metadata": {},
     "output_type": "display_data"
    }
   ],
   "source": [
    "x = 0.1 # arbitary x\n",
    "a,b = divideby3(x)\n",
    "@test a ≤ big(x)/3 ≤ b\n",
    "@test b == a || b == nextfloat(a)"
   ]
  },
  {
   "cell_type": "markdown",
   "metadata": {},
   "source": [
    "## 2. Differentiation\n",
    "\n",
    "**Problem 2.1 (C)** Use the following off-center finite-difference approximation\n",
    "$$\n",
    "f'(x) ≈ {f(x+2h) - f(x-h) \\over 3h}\n",
    "$$\n",
    "with an appropriately chosen $h$ to approximate\n",
    "$$\n",
    "f(x) = \\cos(x^2)\n",
    "$$\n",
    "at $x = 0.1$ to 5 digits accuracy."
   ]
  },
  {
   "cell_type": "code",
   "execution_count": 18,
   "metadata": {
    "execution": {
     "iopub.execute_input": "2022-03-08T16:32:17.393232Z",
     "iopub.status.busy": "2022-03-08T16:32:17.392612Z",
     "iopub.status.idle": "2022-03-08T16:32:17.472691Z",
     "shell.execute_reply": "2022-03-08T16:32:17.472215Z"
    }
   },
   "outputs": [
    {
     "data": {
      "text/plain": [
       "fd (generic function with 1 method)"
      ]
     },
     "metadata": {},
     "output_type": "display_data"
    }
   ],
   "source": [
    "function fd(x)\n",
    "    # TODO: implement a finite-difference rule \n",
    "    # to approximate f'(x)\n",
    "    # for f(x) = cos(x^2)\n",
    "    # with step-size h chosen to get sufficient accuracy\n",
    "\n",
    "    h = sqrt(eps(Float64))\n",
    "\n",
    "    f = x -> cos(x^2)\n",
    "\n",
    "    diff = (f(x + 2*h)-f(x-h))/(3*h)\n",
    "    \n",
    "end"
   ]
  },
  {
   "cell_type": "code",
   "execution_count": 19,
   "metadata": {
    "execution": {
     "iopub.execute_input": "2022-03-08T16:32:17.474723Z",
     "iopub.status.busy": "2022-03-08T16:32:17.474227Z",
     "iopub.status.idle": "2022-03-08T16:32:18.880426Z",
     "shell.execute_reply": "2022-03-08T16:32:18.879903Z"
    }
   },
   "outputs": [
    {
     "data": {
      "text/plain": [
       "\u001b[32m\u001b[1mTest Passed\u001b[22m\u001b[39m"
      ]
     },
     "metadata": {},
     "output_type": "display_data"
    }
   ],
   "source": [
    "@test abs(fd(0.1) + 2*0.1*sin(0.1^2)) ≤ 1E-5"
   ]
  },
  {
   "cell_type": "markdown",
   "metadata": {},
   "source": [
    "**Problem 2.2 (A)** Consider a 2D version of a dual number:\n",
    "$$\n",
    "a + b ϵ_x + c ϵ_y\n",
    "$$\n",
    "such that\n",
    "$$\n",
    "ϵ_x^2 = ϵ_y^2 = ϵ_x ϵ_y =  0.\n",
    "$$\n",
    "Complete the following implementation supporting `+` and `*` (and\n",
    "assuming `a,b,c` are `Float64`). Hint: you may need to work out on paper\n",
    "how to multiply `(s.a + s.b ϵ_x + s.c ϵ_y)*(t.a + t.b ϵ_x + t.c ϵ_y)` using the\n",
    "relationship above."
   ]
  },
  {
   "cell_type": "code",
   "execution_count": 20,
   "metadata": {
    "execution": {
     "iopub.execute_input": "2022-03-08T16:32:18.883265Z",
     "iopub.status.busy": "2022-03-08T16:32:18.882600Z",
     "iopub.status.idle": "2022-03-08T16:32:19.152893Z",
     "shell.execute_reply": "2022-03-08T16:32:19.152454Z"
    }
   },
   "outputs": [
    {
     "data": {
      "text/plain": [
       "* (generic function with 320 methods)"
      ]
     },
     "metadata": {},
     "output_type": "display_data"
    }
   ],
   "source": [
    "import Base: *, +, ^\n",
    "struct Dual2D\n",
    "    a::Float64\n",
    "    b::Float64\n",
    "    c::Float64\n",
    "end\n",
    "\n",
    "\n",
    "function +(s::Dual2D, t::Dual2D)\n",
    "    Dual2D(s.a+t.a, s.b + t.b, s.c + t.c)\n",
    "    ## TODO: Implement +, returning a Dual2D\n",
    "end\n",
    "\n",
    "function *(c::Number, s::Dual2D)\n",
    "    ## TODO: Implement c * Dual2D(...), returning a Dual2D\n",
    "    Dual2D(c*s.a, c*s.b, c*s.c)\n",
    "    \n",
    "end\n",
    "\n",
    "function *(s::Dual2D, t::Dual2D)\n",
    "    ## TODO: Implement Dual2D(...) * Dual2D(...), returning a Dual2D\n",
    "    Dual2D(s.a*t.a, s.a*t.b + t.a*s.b, s.a*t.c + t.a*s.c)\n",
    "    \n",
    "    \n",
    "end"
   ]
  },
  {
   "cell_type": "code",
   "execution_count": 21,
   "metadata": {
    "execution": {
     "iopub.execute_input": "2022-03-08T16:32:19.154906Z",
     "iopub.status.busy": "2022-03-08T16:32:19.154350Z",
     "iopub.status.idle": "2022-03-08T16:32:20.278218Z",
     "shell.execute_reply": "2022-03-08T16:32:20.277830Z"
    }
   },
   "outputs": [
    {
     "data": {
      "text/plain": [
       "\u001b[32m\u001b[1mTest Passed\u001b[22m\u001b[39m"
      ]
     },
     "metadata": {},
     "output_type": "display_data"
    }
   ],
   "source": [
    "f = function (x, y) # (x+2y^2)^3 using only * and +\n",
    "    z = (x + 2y * y)\n",
    "    z * z * z\n",
    "end\n",
    "\n",
    "x,y = 1., 2.\n",
    "@test f(Dual2D(x,1.,0.), Dual2D(y,0.,1.)) == Dual2D(f(x,y), 3(x+2y^2)^2, 12y*(x+2y^2)^2)\n",
    "\n",
    "# This has computed the gradient as f(x,y) + f_x*ϵ_x + f_y*ϵ_y\n",
    "# == (x+2y^2)^3 + 3(x+2y^2)^2*ϵ_x + 12y(x+2y^2)^2*ϵ_y"
   ]
  },
  {
   "cell_type": "markdown",
   "metadata": {},
   "source": [
    "## 3. Structured Matrices\n",
    "\n",
    "**Problem 3.1 (C)** Add an implementation of `inv(::PermutationMatrix)`\n",
    "to return the inverse permutation as a `PermutationMatrix`. Hint: use\n",
    "`invperm`."
   ]
  },
  {
   "cell_type": "code",
   "execution_count": 22,
   "metadata": {
    "execution": {
     "iopub.execute_input": "2022-03-08T16:32:20.280124Z",
     "iopub.status.busy": "2022-03-08T16:32:20.279617Z",
     "iopub.status.idle": "2022-03-08T16:32:20.364321Z",
     "shell.execute_reply": "2022-03-08T16:32:20.363936Z"
    }
   },
   "outputs": [
    {
     "data": {
      "text/plain": [
       "inv (generic function with 34 methods)"
      ]
     },
     "metadata": {},
     "output_type": "display_data"
    }
   ],
   "source": [
    "import Base: getindex, size, *, inv\n",
    "\n",
    "struct PermutationMatrix <: AbstractMatrix{Int}\n",
    "    p::Vector{Int} # represents the permutation whose action is v[p]\n",
    "    function PermutationMatrix(p::Vector)\n",
    "        sort(p) == 1:length(p) || error(\"input is not a valid permutation\")\n",
    "        new(p)\n",
    "    end\n",
    "end\n",
    "\n",
    "size(P::PermutationMatrix) = (length(P.p),length(P.p))\n",
    "getindex(P::PermutationMatrix, k::Int, j::Int) = P.p[k] == j ? 1 : 0\n",
    "*(P::PermutationMatrix, x::AbstractVector) = x[P.p]\n",
    "\n",
    "function inv(P::PermutationMatrix)\n",
    "    # TODO: return a PermutationMatrix representing the inverse permutation\n",
    "    PermutationMatrix(invperm(P.p))\n",
    "    \n",
    "end"
   ]
  },
  {
   "cell_type": "code",
   "execution_count": 23,
   "metadata": {
    "execution": {
     "iopub.execute_input": "2022-03-08T16:32:20.367270Z",
     "iopub.status.busy": "2022-03-08T16:32:20.366375Z",
     "iopub.status.idle": "2022-03-08T16:32:20.483934Z",
     "shell.execute_reply": "2022-03-08T16:32:20.483532Z"
    }
   },
   "outputs": [
    {
     "data": {
      "text/plain": [
       "\u001b[32m\u001b[1mTest Passed\u001b[22m\u001b[39m"
      ]
     },
     "metadata": {},
     "output_type": "display_data"
    }
   ],
   "source": [
    "P = PermutationMatrix([3,4,2,1])\n",
    "@test inv(P) isa PermutationMatrix\n",
    "@test P*inv(P) == I"
   ]
  },
  {
   "cell_type": "markdown",
   "metadata": {},
   "source": [
    "## 4. Decompositions\n",
    "\n",
    "**Problem 4.1 (C)** For $𝐱 ∈ ℝ^n$ implement the reflection defined by\n",
    "$$\n",
    "\\begin{align*}\n",
    "𝐲 &:= 𝐱 + \\|𝐱\\| 𝐞_n \\\\\n",
    "𝐰 &:= 𝐲/\\|𝐲\\| \\\\\n",
    "Q_𝐱 &:= I - 2𝐰𝐰^⊤\n",
    "\\end{align*}\n",
    "$$\n",
    "in `lowerhouseholderreflection(x)`, which should return a `Matrix{Float64}`.\n",
    "You may assume that `x` is a `Vector{Float64}`."
   ]
  },
  {
   "cell_type": "code",
   "execution_count": 24,
   "metadata": {
    "execution": {
     "iopub.execute_input": "2022-03-08T16:32:20.487331Z",
     "iopub.status.busy": "2022-03-08T16:32:20.486453Z",
     "iopub.status.idle": "2022-03-08T16:32:20.572504Z",
     "shell.execute_reply": "2022-03-08T16:32:20.572079Z"
    }
   },
   "outputs": [
    {
     "data": {
      "text/plain": [
       "lowerhouseholderreflection (generic function with 1 method)"
      ]
     },
     "metadata": {},
     "output_type": "display_data"
    }
   ],
   "source": [
    "function lowerhouseholderreflection(x)\n",
    "    ## TODO: implement the householder reflector defined above\n",
    "    n = length(x)\n",
    "    e_n = [zeros(n-1); 1]\n",
    "    y = x + norm(x) * e_n\n",
    "    w = y / norm(y)\n",
    "    I - 2*w*w'\n",
    "end"
   ]
  },
  {
   "cell_type": "code",
   "execution_count": 4,
   "metadata": {
    "execution": {
     "iopub.execute_input": "2022-03-08T16:32:20.574724Z",
     "iopub.status.busy": "2022-03-08T16:32:20.574187Z",
     "iopub.status.idle": "2022-03-08T16:32:21.689419Z",
     "shell.execute_reply": "2022-03-08T16:32:21.689018Z"
    }
   },
   "outputs": [
    {
     "data": {
      "text/plain": [
       "\u001b[32m\u001b[1mTest Passed\u001b[22m\u001b[39m\n",
       "  Expression: Q ≈ Q'\n",
       "   Evaluated: [0.9807354816671587 -0.03852903666568264 -0.05779355499852396 -0.18257418583505536; -0.03852903666568264 0.9229419266686347 -0.11558710999704792 -0.3651483716701107; -0.05779355499852396 -0.11558710999704792 0.8266193350044281 -0.5477225575051661; -0.18257418583505536 -0.3651483716701107 -0.5477225575051661 -0.7302967433402217] ≈ [0.9807354816671587 -0.03852903666568264 -0.05779355499852396 -0.18257418583505536; -0.03852903666568264 0.9229419266686347 -0.11558710999704792 -0.3651483716701107; -0.05779355499852396 -0.11558710999704792 0.8266193350044281 -0.5477225575051661; -0.18257418583505536 -0.3651483716701107 -0.5477225575051661 -0.7302967433402217]"
      ]
     },
     "execution_count": 4,
     "metadata": {},
     "output_type": "execute_result"
    }
   ],
   "source": [
    "x = [1.0,2,3,4]\n",
    "Q = lowerhouseholderreflection(x)\n",
    "@test Q*x ≈ [zeros(3); -norm(x)]\n",
    "@test Q'Q ≈ I\n",
    "@test Q ≈ Q'"
   ]
  },
  {
   "cell_type": "markdown",
   "metadata": {},
   "source": [
    "**Problem 4.2 (A)** Complete the function `ql(A)` that\n",
    "returns a QL decomposition, that is, `Q` is an orthogonal\n",
    "matrix and `L` is lower triangular. You may assume that `A`\n",
    "is a square `Matrix{Float64}`. Hint: use Problem 4.1 to lower triangularise."
   ]
  },
  {
   "cell_type": "code",
   "execution_count": 25,
   "metadata": {
    "execution": {
     "iopub.execute_input": "2022-03-08T16:32:21.691796Z",
     "iopub.status.busy": "2022-03-08T16:32:21.691164Z",
     "iopub.status.idle": "2022-03-08T16:32:21.771582Z",
     "shell.execute_reply": "2022-03-08T16:32:21.771204Z"
    }
   },
   "outputs": [
    {
     "data": {
      "text/plain": [
       "ql (generic function with 1 method)"
      ]
     },
     "metadata": {},
     "output_type": "display_data"
    }
   ],
   "source": [
    "function ql(A)\n",
    "    m,n = size(A)\n",
    "    m == n || error(\"not square\")\n",
    "    ## TODO Create Q and L such that Q'Q == I and L is lower triangular\n",
    "    L = copy(A)\n",
    "    Q = Matrix(1.0I, n, n)\n",
    "    for j = n:-1:2 # last to 2nd column\n",
    "        x = L[1:j,j]\n",
    "        Qⱼ = lowerhouseholderreflection(x) # moves all of Qⱼ*x to the last entry\n",
    "        L[1:j,1:j] = Qⱼ*L[1:j,1:j] # moves last column \"down\"\n",
    "        # Q_1 * Q_2 * … * Q_j (note Q_k are symmetric, so this is inverse of Q_j * … * Q_1)\n",
    "        # only changes the first j columns\n",
    "        Q[:,1:j] = Q[:,1:j]*Qⱼ\n",
    "    end\n",
    "    Q, L\n",
    "end"
   ]
  },
  {
   "cell_type": "code",
   "execution_count": 26,
   "metadata": {},
   "outputs": [
    {
     "ename": "UndefVarError",
     "evalue": "UndefVarError: A not defined",
     "output_type": "error",
     "traceback": [
      "UndefVarError: A not defined\n",
      "\n",
      "Stacktrace:\n",
      " [1] top-level scope\n",
      "   @ ~/Desktop/Imperial/Year 2/Numerical Analysis/MATH50003NumericalAnalysis/exams/practice.ipynb:1"
     ]
    }
   ],
   "source": [
    "ql(A)"
   ]
  },
  {
   "cell_type": "code",
   "execution_count": 27,
   "metadata": {
    "execution": {
     "iopub.execute_input": "2022-03-08T16:32:21.773956Z",
     "iopub.status.busy": "2022-03-08T16:32:21.773235Z",
     "iopub.status.idle": "2022-03-08T16:32:21.913172Z",
     "shell.execute_reply": "2022-03-08T16:32:21.912792Z"
    }
   },
   "outputs": [
    {
     "data": {
      "text/plain": [
       "\u001b[32m\u001b[1mTest Passed\u001b[22m\u001b[39m"
      ]
     },
     "metadata": {},
     "output_type": "display_data"
    }
   ],
   "source": [
    "A = [1.0 2 3; 1 4 9; 1 1 1]\n",
    "Q,L = ql(A)\n",
    "@test Q'Q ≈ I\n",
    "@test Q*L ≈ A\n",
    "@test L ≈ tril(L) # it is acceptable to have small non-zero entries in L"
   ]
  },
  {
   "cell_type": "markdown",
   "metadata": {},
   "source": [
    "## 5. Singular Value Decomposition\n",
    "\n",
    "**Problem 5.1 (C)** Find the best rank-4 approximation (in the $2$-norm) to\n",
    "$$\n",
    "f(x,y) = \\cos(x - y)/(x+y+1)\n",
    "$$\n",
    "evaluated at an evenly spaced 100 × 100 grid on the square $[0,1]^2$."
   ]
  },
  {
   "cell_type": "code",
   "execution_count": 48,
   "metadata": {
    "execution": {
     "iopub.execute_input": "2022-03-08T16:32:21.915531Z",
     "iopub.status.busy": "2022-03-08T16:32:21.914777Z",
     "iopub.status.idle": "2022-03-08T16:32:21.916288Z",
     "shell.execute_reply": "2022-03-08T16:32:21.916836Z"
    }
   },
   "outputs": [
    {
     "name": "stdout",
     "output_type": "stream",
     "text": [
      "[[1.0, 0.9801980198019803, 0.9611650485436893, 0.942857142857143, 0.925233644859813, 0.908256880733945, 0.891891891891892, 0.8761061946902655, 0.8608695652173913, 0.8461538461538461, 0.8319327731092437, 0.8181818181818181, 0.8048780487804879, 0.792, 0.7795275590551181, 0.7674418604651163, 0.7557251908396946, 0.7443609022556391, 0.7333333333333333, 0.7226277372262774, 0.7122302158273381, 0.7021276595744681, 0.6923076923076923, 0.6827586206896552, 0.673469387755102, 0.6644295302013422, 0.6556291390728477, 0.6470588235294118, 0.6387096774193548, 0.6305732484076433, 0.6226415094339623, 0.6149068322981366, 0.607361963190184, 0.6000000000000001, 0.592814371257485, 0.5857988165680473, 0.5789473684210527, 0.5722543352601156, 0.5657142857142857, 0.5593220338983051, 0.553072625698324, 0.5469613259668509, 0.540983606557377, 0.5351351351351351, 0.5294117647058824, 0.5238095238095238, 0.518324607329843, 0.5129533678756477, 0.5076923076923077, 0.5025380710659898, 0.4974874371859296, 0.49253731343283585, 0.48768472906403937, 0.4829268292682926, 0.4782608695652174, 0.47368421052631576, 0.4691943127962085, 0.46478873239436624, 0.4604651162790698, 0.456221198156682, 0.452054794520548, 0.4479638009049774, 0.4439461883408072, 0.44000000000000006, 0.4361233480176211, 0.43231441048034935, 0.4285714285714286, 0.42489270386266087, 0.42127659574468085, 0.4177215189873418, 0.4142259414225941, 0.41078838174273863, 0.4074074074074074, 0.4040816326530612, 0.4008097165991903, 0.39759036144578314, 0.3944223107569721, 0.391304347826087, 0.38823529411764707, 0.38521400778210113, 0.38223938223938225, 0.3793103448275862, 0.376425855513308, 0.3735849056603774, 0.37078651685393255, 0.3680297397769517, 0.36531365313653136, 0.3626373626373626, 0.36, 0.3574007220216606, 0.3548387096774193, 0.3523131672597865, 0.3498233215547703, 0.34736842105263155, 0.34494773519163763, 0.342560553633218, 0.3402061855670103, 0.33788395904436863, 0.33559322033898303, 0.3333333333333333]]"
     ]
    },
    {
     "ename": "MethodError",
     "evalue": "MethodError: no method matching zero(::Type{Vector{Float64}})\nClosest candidates are:\n  zero(!Matched::Union{Type{P}, P}) where P<:Dates.Period at /Applications/Julia-1.8.app/Contents/Resources/julia/share/julia/stdlib/v1.8/Dates/src/periods.jl:53\n  zero(!Matched::Diagonal) at /Applications/Julia-1.8.app/Contents/Resources/julia/share/julia/stdlib/v1.8/LinearAlgebra/src/special.jl:381\n  zero(!Matched::UniformScaling{T}) where T at /Applications/Julia-1.8.app/Contents/Resources/julia/share/julia/stdlib/v1.8/LinearAlgebra/src/uniformscaling.jl:135\n  ...",
     "output_type": "error",
     "traceback": [
      "MethodError: no method matching zero(::Type{Vector{Float64}})\n",
      "Closest candidates are:\n",
      "  zero(!Matched::Union{Type{P}, P}) where P<:Dates.Period at /Applications/Julia-1.8.app/Contents/Resources/julia/share/julia/stdlib/v1.8/Dates/src/periods.jl:53\n",
      "  zero(!Matched::Diagonal) at /Applications/Julia-1.8.app/Contents/Resources/julia/share/julia/stdlib/v1.8/LinearAlgebra/src/special.jl:381\n",
      "  zero(!Matched::UniformScaling{T}) where T at /Applications/Julia-1.8.app/Contents/Resources/julia/share/julia/stdlib/v1.8/LinearAlgebra/src/uniformscaling.jl:135\n",
      "  ...\n",
      "\n",
      "Stacktrace:\n",
      " [1] eigtype(T::Type)\n",
      "   @ LinearAlgebra /Applications/Julia-1.8.app/Contents/Resources/julia/share/julia/stdlib/v1.8/LinearAlgebra/src/eigen.jl:311\n",
      " [2] svd(A::Vector{Vector{Float64}}; full::Bool, alg::LinearAlgebra.DivideAndConquer)\n",
      "   @ LinearAlgebra /Applications/Julia-1.8.app/Contents/Resources/julia/share/julia/stdlib/v1.8/LinearAlgebra/src/svd.jl:179\n",
      " [3] svd(A::Vector{Vector{Float64}})\n",
      "   @ LinearAlgebra /Applications/Julia-1.8.app/Contents/Resources/julia/share/julia/stdlib/v1.8/LinearAlgebra/src/svd.jl:178\n",
      " [4] bestrank4()\n",
      "   @ Main ~/Desktop/Imperial/Year 2/Numerical Analysis/MATH50003NumericalAnalysis/exams/practice.ipynb:10\n",
      " [5] top-level scope\n",
      "   @ ~/Desktop/Imperial/Year 2/Numerical Analysis/MATH50003NumericalAnalysis/exams/practice.ipynb:22"
     ]
    }
   ],
   "source": [
    "function bestrank4()\n",
    "    # TODO: return best rank-4 approximation\n",
    "\n",
    "    j = k = range(0,1,length = 100)\n",
    "    f(x,y) = cos(x-y)/(x+y+1)\n",
    "\n",
    "    A = [f.(j,k)]\n",
    "    print(A)\n",
    "    \n",
    "    U, S, V = svd(A)\n",
    "\n",
    "    U_4 = U[:, 1:4]\n",
    "    V_4 = V[:,1:4]\n",
    "    S_4 = Diagonal(S[1:4])\n",
    "\n",
    "    U_4*S_4*V_4'\n",
    "    \n",
    "    \n",
    "    \n",
    "end\n",
    "\n",
    "Fr = bestrank4()\n",
    "\n"
   ]
  },
  {
   "cell_type": "code",
   "execution_count": 43,
   "metadata": {
    "execution": {
     "iopub.execute_input": "2022-03-08T16:32:21.919688Z",
     "iopub.status.busy": "2022-03-08T16:32:21.919016Z",
     "iopub.status.idle": "2022-03-08T16:32:21.971337Z",
     "shell.execute_reply": "2022-03-08T16:32:21.970915Z"
    }
   },
   "outputs": [
    {
     "name": "stdout",
     "output_type": "stream",
     "text": [
      "\u001b[91m\u001b[1mTest Failed\u001b[22m\u001b[39m at \u001b[39m\u001b[1m/Users/noahrubin/Desktop/Imperial/Year 2/Numerical Analysis/MATH50003NumericalAnalysis/exams/practice.ipynb:4\u001b[22m\n",
      "  Expression: abs(Fr[10, 11] - cos(x - y) / (x + y + 1)) ≤ 2.0e-6\n",
      "   Evaluated: 0.0013525675695882367 ≤ 2.0e-6\n"
     ]
    },
    {
     "ename": "Test.FallbackTestSetException",
     "evalue": "Test.FallbackTestSetException(\"There was an error during testing\")",
     "output_type": "error",
     "traceback": [
      "Test.FallbackTestSetException(\"There was an error during testing\")\n",
      "\n",
      "Stacktrace:\n",
      " [1] record(ts::Test.FallbackTestSet, t::Union{Test.Error, Test.Fail})\n",
      "   @ Test /Applications/Julia-1.8.app/Contents/Resources/julia/share/julia/stdlib/v1.8/Test/src/Test.jl:946\n",
      " [2] do_test(result::Test.ExecutionResult, orig_expr::Any)\n",
      "   @ Test /Applications/Julia-1.8.app/Contents/Resources/julia/share/julia/stdlib/v1.8/Test/src/Test.jl:656\n",
      " [3] top-level scope\n",
      "   @ /Applications/Julia-1.8.app/Contents/Resources/julia/share/julia/stdlib/v1.8/Test/src/Test.jl:464"
     ]
    }
   ],
   "source": [
    "x = 9/99\n",
    "y = 10/99\n",
    "@test rank(Fr) == 4\n",
    "@test abs(Fr[10,11] - cos(x - y)/(x + y + 1)) ≤ 2E-6"
   ]
  },
  {
   "cell_type": "markdown",
   "metadata": {},
   "source": [
    "## 6. Differential Equations\n",
    "\n",
    "**Problem 6.1 (A)** Complete the function `airyai(n)` that returns a length-$n$ `Vector{Float64}`\n",
    "$$\n",
    "\\begin{bmatrix}\n",
    "u_1 \\\\\n",
    "⋮ \\\\\n",
    "u_n\n",
    "\\end{bmatrix}\n",
    "$$\n",
    "such that $u_k$ approximates the solution to the equation\n",
    "$$\n",
    "\\begin{align*}\n",
    "u(0) &= 1 \\\\\n",
    "u(1) &= 0 \\\\\n",
    "u'' - x u &= 0\n",
    "\\end{align*}\n",
    "$$\n",
    "at the point $x_k = (k-1)/(n-1)$ using the second order finite-difference approximation:\n",
    "$$\n",
    "u''(x_k) ≈ {u_{k-1} - 2u_k + u_{k+1} \\over h^2}\n",
    "$$\n",
    "for $k = 2, …, n-1$, in $O(n)$ operations."
   ]
  },
  {
   "cell_type": "code",
   "execution_count": null,
   "metadata": {
    "execution": {
     "iopub.execute_input": "2022-03-08T16:32:21.973860Z",
     "iopub.status.busy": "2022-03-08T16:32:21.972946Z",
     "iopub.status.idle": "2022-03-08T16:32:22.051297Z",
     "shell.execute_reply": "2022-03-08T16:32:22.050894Z"
    }
   },
   "outputs": [],
   "source": [
    "function airy(n)\n",
    "    # TODO: return a Vector{Float64} approximating the solution to the ODE\n",
    "    \n",
    "end"
   ]
  },
  {
   "cell_type": "code",
   "execution_count": 17,
   "metadata": {
    "execution": {
     "iopub.execute_input": "2022-03-08T16:32:22.053186Z",
     "iopub.status.busy": "2022-03-08T16:32:22.052686Z",
     "iopub.status.idle": "2022-03-08T16:32:22.103708Z",
     "shell.execute_reply": "2022-03-08T16:32:22.103272Z"
    }
   },
   "outputs": [
    {
     "ename": "LoadError",
     "evalue": "UndefVarError: airy not defined",
     "output_type": "error",
     "traceback": [
      "UndefVarError: airy not defined",
      "",
      "Stacktrace:",
      " [1] top-level scope",
      "   @ In[17]:1",
      " [2] eval",
      "   @ ./boot.jl:373 [inlined]",
      " [3] include_string(mapexpr::typeof(REPL.softscope), mod::Module, code::String, filename::String)",
      "   @ Base ./loading.jl:1196"
     ]
    }
   ],
   "source": [
    "u = airy(1000)\n",
    "@test u[1] ≈ 1\n",
    "@test u[end] ≈ 0\n",
    "# this compares agianst the exact formula\n",
    "@test abs(u[500] - 0.4757167332829094) ≤ 2E-8"
   ]
  },
  {
   "cell_type": "code",
   "execution_count": 25,
   "metadata": {},
   "outputs": [
    {
     "data": {
      "text/plain": [
       "5×5 SymTridiagonal{Float64, Vector{Float64}}:\n",
       " 1.0  1.0   ⋅    ⋅    ⋅ \n",
       " 1.0  2.0  0.0   ⋅    ⋅ \n",
       "  ⋅   0.0  3.0  0.0   ⋅ \n",
       "  ⋅    ⋅   0.0  4.0  0.0\n",
       "  ⋅    ⋅    ⋅   0.0  5.0"
      ]
     },
     "execution_count": 25,
     "metadata": {},
     "output_type": "execute_result"
    }
   ],
   "source": [
    "x = 1:6\n",
    "\n",
    "\n",
    "\n",
    "SymTridiagonal(Vector{Float64}(x[1:5]), [1.0; zeros(3)])"
   ]
  },
  {
   "cell_type": "code",
   "execution_count": 21,
   "metadata": {},
   "outputs": [
    {
     "data": {
      "text/plain": [
       "4-element Vector{Float64}:\n",
       " 1.0\n",
       " 2.0\n",
       " 3.0\n",
       " 4.0"
      ]
     },
     "execution_count": 21,
     "metadata": {},
     "output_type": "execute_result"
    }
   ],
   "source": [
    "x"
   ]
  },
  {
   "cell_type": "code",
   "execution_count": null,
   "metadata": {},
   "outputs": [],
   "source": []
  }
 ],
 "metadata": {
  "kernelspec": {
   "display_name": "Julia 1.8.5",
   "language": "julia",
   "name": "julia-1.8"
  },
  "language_info": {
   "file_extension": ".jl",
   "mimetype": "application/julia",
   "name": "julia",
   "version": "1.8.5"
  }
 },
 "nbformat": 4,
 "nbformat_minor": 2
}
