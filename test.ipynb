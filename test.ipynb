{
 "cells": [
  {
   "cell_type": "code",
   "execution_count": 9,
   "metadata": {},
   "outputs": [
    {
     "data": {
      "text/plain": [
       "3×1 Matrix{Float64}:\n",
       " 0.3448275862068964\n",
       " 0.4137931034482758\n",
       " 1.0172413793103445"
      ]
     },
     "execution_count": 9,
     "metadata": {},
     "output_type": "execute_result"
    }
   ],
   "source": [
    "using LinearAlgebra\n",
    "\n",
    "a = [1 2 3;\n",
    "     1 2 4;\n",
    "     3 7 8]\n",
    "\n",
    "b = [4 6 8]\n",
    "\n",
    "a/b"
   ]
  },
  {
   "cell_type": "code",
   "execution_count": 3,
   "metadata": {},
   "outputs": [
    {
     "data": {
      "text/plain": [
       "4-element Vector{Int64}:\n",
       " 1\n",
       " 6\n",
       " 7\n",
       " 0"
      ]
     },
     "execution_count": 3,
     "metadata": {},
     "output_type": "execute_result"
    }
   ],
   "source": [
    "push!([1,6,7],0)"
   ]
  },
  {
   "cell_type": "code",
   "execution_count": 4,
   "metadata": {},
   "outputs": [
    {
     "data": {
      "text/plain": [
       "4-element Vector{Int64}:\n",
       " 0\n",
       " 1\n",
       " 2\n",
       " 3"
      ]
     },
     "execution_count": 4,
     "metadata": {},
     "output_type": "execute_result"
    }
   ],
   "source": [
    "a = pushfirst!([1,2,3],0)"
   ]
  },
  {
   "cell_type": "code",
   "execution_count": 13,
   "metadata": {},
   "outputs": [
    {
     "ename": "LoadError",
     "evalue": "DimensionMismatch: arrays could not be broadcast to a common size; got a dimension with lengths 10 and 2",
     "output_type": "error",
     "traceback": [
      "DimensionMismatch: arrays could not be broadcast to a common size; got a dimension with lengths 10 and 2",
      "",
      "Stacktrace:",
      " [1] _bcs1",
      "   @ ./broadcast.jl:516 [inlined]",
      " [2] _bcs",
      "   @ ./broadcast.jl:510 [inlined]",
      " [3] broadcast_shape",
      "   @ ./broadcast.jl:504 [inlined]",
      " [4] combine_axes",
      "   @ ./broadcast.jl:499 [inlined]",
      " [5] instantiate",
      "   @ ./broadcast.jl:281 [inlined]",
      " [6] materialize(bc::Base.Broadcast.Broadcasted{Base.Broadcast.DefaultArrayStyle{1}, Nothing, typeof(^), Tuple{StepRangeLen{Float64, Base.TwicePrecision{Float64}, Base.TwicePrecision{Float64}, Int64}, UnitRange{Int64}}})",
      "   @ Base.Broadcast ./broadcast.jl:860",
      " [7] top-level scope",
      "   @ In[13]:4"
     ]
    }
   ],
   "source": [
    "x = range(0,1, length = 10)\n",
    "    \n",
    "\n",
    "A = x.^(1:2)"
   ]
  },
  {
   "cell_type": "code",
   "execution_count": null,
   "metadata": {},
   "outputs": [],
   "source": []
  }
 ],
 "metadata": {
  "kernelspec": {
   "display_name": "Julia 1.8.5",
   "language": "julia",
   "name": "julia-1.8"
  },
  "language_info": {
   "file_extension": ".jl",
   "mimetype": "application/julia",
   "name": "julia",
   "version": "1.8.5"
  },
  "orig_nbformat": 4
 },
 "nbformat": 4,
 "nbformat_minor": 2
}
